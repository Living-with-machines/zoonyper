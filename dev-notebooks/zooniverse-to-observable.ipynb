{
 "cells": [
  {
   "cell_type": "markdown",
   "id": "64c84b7a",
   "metadata": {},
   "source": [
    "The purpose of this notebook is to explore whether I can create something reusable for visualisation of Zooniverse data. It will be accompanied by scripts inside a private notebook on Observable. Those scripts might be moved into a public-facing repository before the release of this notebook to the public.\n",
    "\n",
    "See: https://observablehq.com/d/55d968557378768e"
   ]
  },
  {
   "cell_type": "code",
   "execution_count": 1,
   "id": "49aef55e",
   "metadata": {},
   "outputs": [],
   "source": [
    "from zoonyper import Project\n",
    "\n",
    "path = \"/Users/kwesterling/OneDrive - bl.uk/Datasets/Zooniverse/Data from Zooniverse crowdsourcing projects/2022-03-30_17-47-00/\"\n",
    "\n",
    "project = Project(path)"
   ]
  },
  {
   "cell_type": "code",
   "execution_count": null,
   "id": "363bf185",
   "metadata": {},
   "outputs": [],
   "source": []
  },
  {
   "cell_type": "code",
   "execution_count": null,
   "id": "01aa31b3",
   "metadata": {},
   "outputs": [],
   "source": []
  }
 ],
 "metadata": {
  "kernelspec": {
   "display_name": "Python 3 (ipykernel)",
   "language": "python",
   "name": "python3"
  },
  "language_info": {
   "codemirror_mode": {
    "name": "ipython",
    "version": 3
   },
   "file_extension": ".py",
   "mimetype": "text/x-python",
   "name": "python",
   "nbconvert_exporter": "python",
   "pygments_lexer": "ipython3",
   "version": "3.10.4"
  }
 },
 "nbformat": 4,
 "nbformat_minor": 5
}
